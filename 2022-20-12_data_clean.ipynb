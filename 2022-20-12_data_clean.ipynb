{
 "cells": [
  {
   "cell_type": "code",
   "execution_count": 2,
   "metadata": {},
   "outputs": [],
   "source": [
    "import pandas as pd\n",
    "\n",
    "df = pd.read_csv(\"sRNATarBase3_w_target_from_1_to_terminal.csv\")"
   ]
  },
  {
   "cell_type": "code",
   "execution_count": 3,
   "metadata": {},
   "outputs": [
    {
     "data": {
      "text/plain": [
       "Index(['ID', 'SRNA_NAME', 'SRNA_ALIAS', 'TARGET_NAME', 'TARGET_ALIAS', 'TAXID',\n",
       "       'ORG_CODE', 'STRAIN_NAME', 'SRNA_TYPE', 'SRNA_LENGTH', 'SRNA_START',\n",
       "       'SRNA_END', 'SRNA_STRAND', 'TARGET_TYPE', 'TARGET_LENGTH',\n",
       "       'TARGET_START', 'TARGET_END', 'TARGET_STRAND', 'REGULATION', 'PMID',\n",
       "       'SRNA_SEQ', 'TARGET_REGION', 'TARGET_SEQ'],\n",
       "      dtype='object')"
      ]
     },
     "execution_count": 3,
     "metadata": {},
     "output_type": "execute_result"
    }
   ],
   "source": [
    "df.columns"
   ]
  },
  {
   "cell_type": "code",
   "execution_count": 4,
   "metadata": {},
   "outputs": [],
   "source": [
    "df.drop(['ID', 'REGULATION', 'PMID', 'SRNA_SEQ', 'TARGET_SEQ'], axis=1, inplace=True)"
   ]
  },
  {
   "cell_type": "code",
   "execution_count": 5,
   "metadata": {},
   "outputs": [
    {
     "data": {
      "text/plain": [
       "(752, 18)"
      ]
     },
     "execution_count": 5,
     "metadata": {},
     "output_type": "execute_result"
    }
   ],
   "source": [
    "df.shape"
   ]
  },
  {
   "cell_type": "code",
   "execution_count": 6,
   "metadata": {},
   "outputs": [],
   "source": [
    "srna = df[['SRNA_NAME', 'SRNA_ALIAS', 'SRNA_TYPE', 'SRNA_LENGTH', 'SRNA_START', 'SRNA_END', 'SRNA_STRAND']]\n",
    "target = df[['TARGET_NAME', 'TARGET_ALIAS', 'TARGET_TYPE', 'TARGET_LENGTH',\n",
    "       'TARGET_START', 'TARGET_END', 'TARGET_STRAND', 'TARGET_REGION']]\n",
    "bac = df[['TAXID', 'ORG_CODE', 'STRAIN_NAME']]"
   ]
  },
  {
   "cell_type": "code",
   "execution_count": 7,
   "metadata": {},
   "outputs": [
    {
     "name": "stdout",
     "output_type": "stream",
     "text": [
      "  SRNA_NAME               SRNA_ALIAS  SRNA_TYPE SRNA_LENGTH  SRNA_START  \\\n",
      "0      dsrA  ECK1952; IS095; JWR0036          1          87     2025227   \n",
      "1      dsrA  ECK1952; IS095; JWR0036          1          87     2025227   \n",
      "\n",
      "   SRNA_END  SRNA_STRAND  \n",
      "0   2025313          2.0  \n",
      "1   2025313          2.0  \n",
      "  TARGET_NAME                                       TARGET_ALIAS  TARGET_TYPE  \\\n",
      "0         hns  B1; bglY; cur; drc; drdX; drs; ECK1232; fimG; ...            1   \n",
      "1        rbsD                              ECK3742; JW5857; rbsP            1   \n",
      "\n",
      "   TARGET_LENGTH  TARGET_START  TARGET_END  TARGET_STRAND TARGET_REGION  \n",
      "0            414       1292509     1292922            2.0        1..414  \n",
      "1            420       3933351     3933770            1.0        1..420  \n",
      "      TAXID ORG_CODE                  STRAIN_NAME\n",
      "0  511145.0      eco  Escherichia coli K12 MG1655\n",
      "1  511145.0      eco  Escherichia coli K12 MG1655\n"
     ]
    }
   ],
   "source": [
    "print(srna.head(2))\n",
    "print(target.head(2))\n",
    "print(bac.head(2))"
   ]
  },
  {
   "cell_type": "code",
   "execution_count": 18,
   "metadata": {},
   "outputs": [
    {
     "name": "stdout",
     "output_type": "stream",
     "text": [
      "/home/scharf/Desktop\r\n"
     ]
    }
   ],
   "source": [
    "!pwd"
   ]
  },
  {
   "cell_type": "code",
   "execution_count": 19,
   "metadata": {},
   "outputs": [],
   "source": [
    "#srna.to_csv('srna.csv')"
   ]
  },
  {
   "cell_type": "code",
   "execution_count": 20,
   "metadata": {},
   "outputs": [],
   "source": [
    "#target.to_csv('target.csv')"
   ]
  },
  {
   "cell_type": "code",
   "execution_count": 21,
   "metadata": {},
   "outputs": [],
   "source": [
    "#bac.to_csv('bacteria.csv')"
   ]
  },
  {
   "cell_type": "code",
   "execution_count": 12,
   "metadata": {},
   "outputs": [
    {
     "data": {
      "text/html": [
       "<div>\n",
       "<style scoped>\n",
       "    .dataframe tbody tr th:only-of-type {\n",
       "        vertical-align: middle;\n",
       "    }\n",
       "\n",
       "    .dataframe tbody tr th {\n",
       "        vertical-align: top;\n",
       "    }\n",
       "\n",
       "    .dataframe thead th {\n",
       "        text-align: right;\n",
       "    }\n",
       "</style>\n",
       "<table border=\"1\" class=\"dataframe\">\n",
       "  <thead>\n",
       "    <tr style=\"text-align: right;\">\n",
       "      <th></th>\n",
       "      <th>TAXID</th>\n",
       "      <th>ORG_CODE</th>\n",
       "      <th>STRAIN_NAME</th>\n",
       "    </tr>\n",
       "  </thead>\n",
       "  <tbody>\n",
       "    <tr>\n",
       "      <th>0</th>\n",
       "      <td>511145.0</td>\n",
       "      <td>eco</td>\n",
       "      <td>Escherichia coli K12 MG1655</td>\n",
       "    </tr>\n",
       "    <tr>\n",
       "      <th>1</th>\n",
       "      <td>511145.0</td>\n",
       "      <td>eco</td>\n",
       "      <td>Escherichia coli K12 MG1655</td>\n",
       "    </tr>\n",
       "  </tbody>\n",
       "</table>\n",
       "</div>"
      ],
      "text/plain": [
       "      TAXID ORG_CODE                  STRAIN_NAME\n",
       "0  511145.0      eco  Escherichia coli K12 MG1655\n",
       "1  511145.0      eco  Escherichia coli K12 MG1655"
      ]
     },
     "execution_count": 12,
     "metadata": {},
     "output_type": "execute_result"
    }
   ],
   "source": [
    "bac.head(2)"
   ]
  },
  {
   "cell_type": "code",
   "execution_count": 13,
   "metadata": {},
   "outputs": [
    {
     "data": {
      "text/html": [
       "<div>\n",
       "<style scoped>\n",
       "    .dataframe tbody tr th:only-of-type {\n",
       "        vertical-align: middle;\n",
       "    }\n",
       "\n",
       "    .dataframe tbody tr th {\n",
       "        vertical-align: top;\n",
       "    }\n",
       "\n",
       "    .dataframe thead th {\n",
       "        text-align: right;\n",
       "    }\n",
       "</style>\n",
       "<table border=\"1\" class=\"dataframe\">\n",
       "  <thead>\n",
       "    <tr style=\"text-align: right;\">\n",
       "      <th></th>\n",
       "      <th>TARGET_NAME</th>\n",
       "      <th>TARGET_ALIAS</th>\n",
       "      <th>TARGET_TYPE</th>\n",
       "      <th>TARGET_LENGTH</th>\n",
       "      <th>TARGET_START</th>\n",
       "      <th>TARGET_END</th>\n",
       "      <th>TARGET_STRAND</th>\n",
       "      <th>TARGET_REGION</th>\n",
       "    </tr>\n",
       "  </thead>\n",
       "  <tbody>\n",
       "    <tr>\n",
       "      <th>0</th>\n",
       "      <td>hns</td>\n",
       "      <td>B1; bglY; cur; drc; drdX; drs; ECK1232; fimG; ...</td>\n",
       "      <td>1</td>\n",
       "      <td>414</td>\n",
       "      <td>1292509</td>\n",
       "      <td>1292922</td>\n",
       "      <td>2.0</td>\n",
       "      <td>1..414</td>\n",
       "    </tr>\n",
       "    <tr>\n",
       "      <th>1</th>\n",
       "      <td>rbsD</td>\n",
       "      <td>ECK3742; JW5857; rbsP</td>\n",
       "      <td>1</td>\n",
       "      <td>420</td>\n",
       "      <td>3933351</td>\n",
       "      <td>3933770</td>\n",
       "      <td>1.0</td>\n",
       "      <td>1..420</td>\n",
       "    </tr>\n",
       "  </tbody>\n",
       "</table>\n",
       "</div>"
      ],
      "text/plain": [
       "  TARGET_NAME                                       TARGET_ALIAS  TARGET_TYPE  \\\n",
       "0         hns  B1; bglY; cur; drc; drdX; drs; ECK1232; fimG; ...            1   \n",
       "1        rbsD                              ECK3742; JW5857; rbsP            1   \n",
       "\n",
       "   TARGET_LENGTH  TARGET_START  TARGET_END  TARGET_STRAND TARGET_REGION  \n",
       "0            414       1292509     1292922            2.0        1..414  \n",
       "1            420       3933351     3933770            1.0        1..420  "
      ]
     },
     "execution_count": 13,
     "metadata": {},
     "output_type": "execute_result"
    }
   ],
   "source": [
    "target.head(2)"
   ]
  },
  {
   "cell_type": "code",
   "execution_count": 14,
   "metadata": {},
   "outputs": [
    {
     "data": {
      "text/html": [
       "<div>\n",
       "<style scoped>\n",
       "    .dataframe tbody tr th:only-of-type {\n",
       "        vertical-align: middle;\n",
       "    }\n",
       "\n",
       "    .dataframe tbody tr th {\n",
       "        vertical-align: top;\n",
       "    }\n",
       "\n",
       "    .dataframe thead th {\n",
       "        text-align: right;\n",
       "    }\n",
       "</style>\n",
       "<table border=\"1\" class=\"dataframe\">\n",
       "  <thead>\n",
       "    <tr style=\"text-align: right;\">\n",
       "      <th></th>\n",
       "      <th>SRNA_NAME</th>\n",
       "      <th>SRNA_ALIAS</th>\n",
       "      <th>SRNA_TYPE</th>\n",
       "      <th>SRNA_LENGTH</th>\n",
       "      <th>SRNA_START</th>\n",
       "      <th>SRNA_END</th>\n",
       "      <th>SRNA_STRAND</th>\n",
       "    </tr>\n",
       "  </thead>\n",
       "  <tbody>\n",
       "    <tr>\n",
       "      <th>0</th>\n",
       "      <td>dsrA</td>\n",
       "      <td>ECK1952; IS095; JWR0036</td>\n",
       "      <td>1</td>\n",
       "      <td>87</td>\n",
       "      <td>2025227</td>\n",
       "      <td>2025313</td>\n",
       "      <td>2.0</td>\n",
       "    </tr>\n",
       "    <tr>\n",
       "      <th>1</th>\n",
       "      <td>dsrA</td>\n",
       "      <td>ECK1952; IS095; JWR0036</td>\n",
       "      <td>1</td>\n",
       "      <td>87</td>\n",
       "      <td>2025227</td>\n",
       "      <td>2025313</td>\n",
       "      <td>2.0</td>\n",
       "    </tr>\n",
       "  </tbody>\n",
       "</table>\n",
       "</div>"
      ],
      "text/plain": [
       "  SRNA_NAME               SRNA_ALIAS  SRNA_TYPE SRNA_LENGTH  SRNA_START  \\\n",
       "0      dsrA  ECK1952; IS095; JWR0036          1          87     2025227   \n",
       "1      dsrA  ECK1952; IS095; JWR0036          1          87     2025227   \n",
       "\n",
       "   SRNA_END  SRNA_STRAND  \n",
       "0   2025313          2.0  \n",
       "1   2025313          2.0  "
      ]
     },
     "execution_count": 14,
     "metadata": {},
     "output_type": "execute_result"
    }
   ],
   "source": [
    "srna.head(2)"
   ]
  },
  {
   "cell_type": "code",
   "execution_count": 16,
   "metadata": {},
   "outputs": [
    {
     "data": {
      "text/plain": [
       "array([1, 0, 2])"
      ]
     },
     "execution_count": 16,
     "metadata": {},
     "output_type": "execute_result"
    }
   ],
   "source": [
    "srna.SRNA_TYPE.unique()"
   ]
  },
  {
   "cell_type": "code",
   "execution_count": 19,
   "metadata": {},
   "outputs": [
    {
     "data": {
      "text/plain": [
       "0      False\n",
       "1      False\n",
       "2      False\n",
       "3      False\n",
       "4      False\n",
       "       ...  \n",
       "747    False\n",
       "748    False\n",
       "749    False\n",
       "750    False\n",
       "751    False\n",
       "Name: SRNA_TYPE, Length: 752, dtype: bool"
      ]
     },
     "execution_count": 19,
     "metadata": {},
     "output_type": "execute_result"
    }
   ],
   "source": [
    "srna.SRNA_TYPE == 2"
   ]
  },
  {
   "cell_type": "code",
   "execution_count": 18,
   "metadata": {},
   "outputs": [
    {
     "data": {
      "text/plain": [
       "0      False\n",
       "1      False\n",
       "2      False\n",
       "3      False\n",
       "4      False\n",
       "       ...  \n",
       "747    False\n",
       "748    False\n",
       "749    False\n",
       "750    False\n",
       "751    False\n",
       "Name: SRNA_TYPE, Length: 752, dtype: bool"
      ]
     },
     "execution_count": 18,
     "metadata": {},
     "output_type": "execute_result"
    }
   ],
   "source": [
    "type"
   ]
  },
  {
   "cell_type": "code",
   "execution_count": 21,
   "metadata": {},
   "outputs": [
    {
     "data": {
      "text/plain": [
       "array([1])"
      ]
     },
     "execution_count": 21,
     "metadata": {},
     "output_type": "execute_result"
    }
   ],
   "source": [
    "target.TARGET_TYPE.unique()"
   ]
  },
  {
   "cell_type": "code",
   "execution_count": null,
   "metadata": {},
   "outputs": [],
   "source": []
  }
 ],
 "metadata": {
  "kernelspec": {
   "display_name": "Python 3",
   "language": "python",
   "name": "python3"
  },
  "language_info": {
   "codemirror_mode": {
    "name": "ipython",
    "version": 3
   },
   "file_extension": ".py",
   "mimetype": "text/x-python",
   "name": "python",
   "nbconvert_exporter": "python",
   "pygments_lexer": "ipython3",
   "version": "3.7.6"
  }
 },
 "nbformat": 4,
 "nbformat_minor": 4
}
